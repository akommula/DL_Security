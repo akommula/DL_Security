{
 "cells": [
  {
   "cell_type": "code",
   "execution_count": 14,
   "id": "critical-operator",
   "metadata": {},
   "outputs": [],
   "source": [
    "import matplotlib.pyplot as plt\n"
   ]
  },
  {
   "cell_type": "code",
   "execution_count": 21,
   "id": "hourly-hindu",
   "metadata": {},
   "outputs": [],
   "source": [
    "from torchvision import datasets, transforms\n",
    "from torch.utils.data import DataLoader\n",
    "\n",
    "mnist_train = datasets.MNIST(\"./data\", train=True, download=True, transform=transforms.ToTensor())\n",
    "mnist_test = datasets.MNIST(\"./data\", train=False, download=True, transform=transforms.ToTensor())\n",
    "\n",
    "x = mnist_train\n",
    "y = mnist_test\n",
    "\n",
    "train_idx = mnist_train.train_labels <= 1 \n",
    "#x.train_data = mnist_train.train_data[train_idx]\n",
    "#x.train_labels = mnist_train.train_labels[train_idx]\n",
    "\n",
    "test_idx = mnist_test.test_labels <= 1\n",
    "#y.test_data = mnist_test.test_data[test_idx]\n",
    "#y.test_labels = mnist_test.test_labels[test_idx]\n",
    "\n",
    "train_loader = DataLoader(x, batch_size = 100, shuffle=True)\n",
    "test_loader = DataLoader(y, batch_size = 100, shuffle=False)"
   ]
  },
  {
   "cell_type": "code",
   "execution_count": 16,
   "id": "metallic-nancy",
   "metadata": {},
   "outputs": [],
   "source": [
    "import torch\n",
    "import torch.nn as nn\n",
    "import torch.optim as optim\n",
    "\n",
    "# do a single pass over the data\n",
    "def epoch(loader, model, opt=None):\n",
    "    total_loss, total_err = 0.,0.\n",
    "    for X,y in loader:\n",
    "        yp = model(X.view(X.shape[0], -1))[:,0]\n",
    "        loss = nn.BCEWithLogitsLoss()(yp, y.float())\n",
    "        if opt:\n",
    "            opt.zero_grad()\n",
    "            loss.backward()\n",
    "            opt.step()\n",
    "        \n",
    "        total_err += ((yp > 0) * (y==0) + (yp < 0) * (y==1)).sum().item()\n",
    "        total_loss += loss.item() * X.shape[0]\n",
    "    return total_err / len(loader.dataset), total_loss / len(loader.dataset)"
   ]
  },
  {
   "cell_type": "code",
   "execution_count": 17,
   "id": "confused-alliance",
   "metadata": {},
   "outputs": [
    {
     "name": "stdout",
     "output_type": "stream",
     "text": [
      "Train Err\tTrain Loss\tTest Err\tTest Loss\n",
      "0.098767\t-138220.310092\t0.098000\t-283440.989687\n",
      "0.098717\t-415016.120885\t0.098000\t-566820.841562\n",
      "0.098717\t-691812.307187\t0.098000\t-850200.660000\n",
      "0.098717\t-968608.263333\t0.098000\t-1133580.576250\n",
      "0.098717\t-1245404.059687\t0.098000\t-1416960.341250\n",
      "0.098717\t-1522199.965625\t0.098000\t-1700340.108750\n",
      "0.098717\t-1798996.038958\t0.098000\t-1983719.981250\n",
      "0.098717\t-2075791.573333\t0.098000\t-2267099.821250\n",
      "0.098717\t-2352587.718750\t0.098000\t-2550479.737500\n",
      "0.098717\t-2629383.695208\t0.098000\t-2833859.560000\n"
     ]
    }
   ],
   "source": [
    "model = nn.Linear(784, 1)\n",
    "opt = optim.SGD(model.parameters(), lr=1.)\n",
    "print(\"Train Err\", \"Train Loss\", \"Test Err\", \"Test Loss\", sep=\"\\t\")\n",
    "for i in range(10):\n",
    "    train_err, train_loss = epoch(train_loader, model, opt)\n",
    "    test_err, test_loss = epoch(test_loader, model)\n",
    "    print(*(\"{:.6f}\".format(i) for i in (train_err, train_loss, test_err, test_loss)), sep=\"\\t\")"
   ]
  },
  {
   "cell_type": "code",
   "execution_count": 22,
   "id": "noted-canada",
   "metadata": {},
   "outputs": [
    {
     "ename": "ValueError",
     "evalue": "only one element tensors can be converted to Python scalars",
     "output_type": "error",
     "traceback": [
      "\u001b[0;31m---------------------------------------------------------------------------\u001b[0m",
      "\u001b[0;31mValueError\u001b[0m                                Traceback (most recent call last)",
      "\u001b[0;32m<ipython-input-22-cba31426fa38>\u001b[0m in \u001b[0;36m<module>\u001b[0;34m\u001b[0m\n\u001b[1;32m      4\u001b[0m \u001b[0midx\u001b[0m \u001b[0;34m=\u001b[0m \u001b[0;34m(\u001b[0m\u001b[0myp\u001b[0m \u001b[0;34m>\u001b[0m \u001b[0;36m0\u001b[0m\u001b[0;34m)\u001b[0m \u001b[0;34m*\u001b[0m \u001b[0;34m(\u001b[0m\u001b[0my_test\u001b[0m \u001b[0;34m==\u001b[0m \u001b[0;36m0\u001b[0m\u001b[0;34m)\u001b[0m \u001b[0;34m+\u001b[0m \u001b[0;34m(\u001b[0m\u001b[0myp\u001b[0m \u001b[0;34m<\u001b[0m \u001b[0;36m0\u001b[0m\u001b[0;34m)\u001b[0m \u001b[0;34m*\u001b[0m \u001b[0;34m(\u001b[0m\u001b[0my_test\u001b[0m \u001b[0;34m==\u001b[0m \u001b[0;36m1\u001b[0m\u001b[0;34m)\u001b[0m\u001b[0;34m\u001b[0m\u001b[0;34m\u001b[0m\u001b[0m\n\u001b[1;32m      5\u001b[0m \u001b[0mplt\u001b[0m\u001b[0;34m.\u001b[0m\u001b[0mimshow\u001b[0m\u001b[0;34m(\u001b[0m\u001b[0;36m1\u001b[0m\u001b[0;34m-\u001b[0m\u001b[0mX_test\u001b[0m\u001b[0;34m[\u001b[0m\u001b[0midx\u001b[0m\u001b[0;34m]\u001b[0m\u001b[0;34m[\u001b[0m\u001b[0;36m0\u001b[0m\u001b[0;34m]\u001b[0m\u001b[0;34m.\u001b[0m\u001b[0mview\u001b[0m\u001b[0;34m(\u001b[0m\u001b[0;36m28\u001b[0m\u001b[0;34m,\u001b[0m\u001b[0;36m28\u001b[0m\u001b[0;34m)\u001b[0m\u001b[0;34m.\u001b[0m\u001b[0mnumpy\u001b[0m\u001b[0;34m(\u001b[0m\u001b[0;34m)\u001b[0m\u001b[0;34m,\u001b[0m \u001b[0mcmap\u001b[0m\u001b[0;34m=\u001b[0m\u001b[0;34m\"gray\"\u001b[0m\u001b[0;34m)\u001b[0m\u001b[0;34m\u001b[0m\u001b[0;34m\u001b[0m\u001b[0m\n\u001b[0;32m----> 6\u001b[0;31m \u001b[0mplt\u001b[0m\u001b[0;34m.\u001b[0m\u001b[0mtitle\u001b[0m\u001b[0;34m(\u001b[0m\u001b[0;34m\"True Label: {}\"\u001b[0m\u001b[0;34m.\u001b[0m\u001b[0mformat\u001b[0m\u001b[0;34m(\u001b[0m\u001b[0my_test\u001b[0m\u001b[0;34m[\u001b[0m\u001b[0midx\u001b[0m\u001b[0;34m]\u001b[0m\u001b[0;34m.\u001b[0m\u001b[0mitem\u001b[0m\u001b[0;34m(\u001b[0m\u001b[0;34m)\u001b[0m\u001b[0;34m)\u001b[0m\u001b[0;34m)\u001b[0m\u001b[0;34m\u001b[0m\u001b[0;34m\u001b[0m\u001b[0m\n\u001b[0m",
      "\u001b[0;31mValueError\u001b[0m: only one element tensors can be converted to Python scalars"
     ]
    },
    {
     "data": {
      "image/png": "[encoded data removed]",
      "text/plain": [
       "<Figure size 432x288 with 1 Axes>"
      ]
     },
     "metadata": {
      "needs_background": "light"
     },
     "output_type": "display_data"
    }
   ],
   "source": [
    "X_test = (test_loader.dataset.test_data.float()/255).view(len(test_loader.dataset),-1)\n",
    "y_test = test_loader.dataset.test_labels\n",
    "yp = model(X_test)[:,0]\n",
    "idx = (yp > 0) * (y_test == 0) + (yp < 0) * (y_test == 1)\n",
    "plt.imshow(1-X_test[idx][0].view(28,28).numpy(), cmap=\"gray\")\n",
    "plt.title(\"True Label: {}\".format(y_test[idx].item()))"
   ]
  },
  {
   "cell_type": "code",
   "execution_count": 23,
   "id": "simplified-teaching",
   "metadata": {},
   "outputs": [
    {
     "data": {
      "text/plain": [
       "<matplotlib.image.AxesImage at 0x14abb31d0>"
      ]
     },
     "execution_count": 23,
     "metadata": {},
     "output_type": "execute_result"
    },
    {
     "data": {
      "image/png": "[encoded data removed]",
      "text/plain": [
       "<Figure size 432x288 with 1 Axes>"
      ]
     },
     "metadata": {
      "needs_background": "light"
     },
     "output_type": "display_data"
    }
   ],
   "source": [
    "epsilon = 0.2\n",
    "delta = epsilon * model.weight.detach().sign().view(28,28)\n",
    "plt.imshow(1-delta.numpy(), cmap=\"gray\")"
   ]
  },
  {
   "cell_type": "code",
   "execution_count": 24,
   "id": "civil-boxing",
   "metadata": {},
   "outputs": [
    {
     "name": "stdout",
     "output_type": "stream",
     "text": [
      "(0.1282, 18351062.41)\n"
     ]
    }
   ],
   "source": [
    "def epoch_adv(loader, model, delta):\n",
    "    total_loss, total_err = 0.,0.\n",
    "    for X,y in loader:\n",
    "        yp = model((X-(2*y.float()[:,None,None,None]-1)*delta).view(X.shape[0], -1))[:,0]\n",
    "        loss = nn.BCEWithLogitsLoss()(yp, y.float())\n",
    "        total_err += ((yp > 0) * (y==0) + (yp < 0) * (y==1)).sum().item()\n",
    "        total_loss += loss.item() * X.shape[0]\n",
    "    return total_err / len(loader.dataset), total_loss / len(loader.dataset)\n",
    "print(epoch_adv(test_loader, model, delta[None,None,:,:]))"
   ]
  },
  {
   "cell_type": "code",
   "execution_count": 25,
   "id": "accessible-producer",
   "metadata": {},
   "outputs": [
    {
     "data": {
      "image/png": "[encoded data removed]",
      "text/plain": [
       "<Figure size 432x288 with 25 Axes>"
      ]
     },
     "metadata": {
      "needs_background": "light"
     },
     "output_type": "display_data"
    }
   ],
   "source": [
    "f,ax = plt.subplots(5,5, sharey=True)\n",
    "for i in range(25):\n",
    "    ax[i%5][i//5].imshow(1-(X_test[i].view(28,28) - (2*y_test[i]-1)*delta).numpy(), cmap=\"gray\")\n",
    "    ax"
   ]
  },
  {
   "cell_type": "code",
   "execution_count": 26,
   "id": "urban-genealogy",
   "metadata": {},
   "outputs": [],
   "source": [
    "def epoch_robust(loader, model, epsilon, opt=None):\n",
    "    total_loss, total_err = 0.,0.\n",
    "    for X,y in loader:\n",
    "        yp = model(X.view(X.shape[0], -1))[:,0] - epsilon*(2*y.float()-1)*model.weight.norm(1)\n",
    "        loss = nn.BCEWithLogitsLoss()(yp, y.float())\n",
    "        if opt:\n",
    "            opt.zero_grad()\n",
    "            loss.backward()\n",
    "            opt.step()\n",
    "        \n",
    "        total_err += ((yp > 0) * (y==0) + (yp < 0) * (y==1)).sum().item()\n",
    "        total_loss += loss.item() * X.shape[0]\n",
    "    return total_err / len(loader.dataset), total_loss / len(loader.dataset)"
   ]
  },
  {
   "cell_type": "code",
   "execution_count": null,
   "id": "metric-brazil",
   "metadata": {},
   "outputs": [
    {
     "name": "stdout",
     "output_type": "stream",
     "text": [
      "Rob. Train Err\tRob. Train Loss\tRob. Test Err\tRob. Test Loss\n",
      "0.129817\t3683.225735\t0.098000\t1212.493588\n",
      "0.098717\t2584.307493\t0.098000\t1193.897347\n",
      "0.098717\t1520.190258\t0.098000\t570.739585\n",
      "0.098717\t508.770784\t0.098000\t219.844656\n",
      "0.098717\t-463.878924\t0.098000\t-596.792348\n",
      "0.098717\t-1308.553192\t0.098000\t-624.203654\n",
      "0.098717\t-2080.345951\t0.098000\t-3395.445229\n",
      "0.098717\t-2821.980045\t0.098000\t-2312.984557\n",
      "0.098717\t-3544.290467\t0.098000\t-4733.763513\n",
      "0.098717\t-4265.965851\t0.098000\t-5085.729976\n",
      "0.098717\t-4980.552233\t0.098000\t-4682.428679\n",
      "0.098717\t-5695.958453\t0.098000\t-6799.023311\n",
      "0.098717\t-6416.080098\t0.098000\t-5817.542632\n",
      "0.098717\t-7125.688732\t0.098000\t-6205.212793\n",
      "0.098717\t-7841.794151\t0.098000\t-9572.423013\n",
      "0.098717\t-8566.523738\t0.098000\t-9783.141133\n",
      "0.098717\t-9274.008755\t0.098000\t-9917.282129\n"
     ]
    }
   ],
   "source": [
    "model = nn.Linear(784, 1)\n",
    "opt = optim.SGD(model.parameters(), lr=1e-1)\n",
    "epsilon = 0.2\n",
    "print(\"Rob. Train Err\", \"Rob. Train Loss\", \"Rob. Test Err\", \"Rob. Test Loss\", sep=\"\\t\")\n",
    "for i in range(20):\n",
    "    train_err, train_loss = epoch_robust(train_loader, model, epsilon, opt)\n",
    "    test_err, test_loss = epoch_robust(test_loader, model, epsilon)\n",
    "    print(*(\"{:.6f}\".format(i) for i in (train_err, train_loss, test_err, test_loss)), sep=\"\\t\")"
   ]
  },
  {
   "cell_type": "code",
   "execution_count": null,
   "id": "subtle-option",
   "metadata": {},
   "outputs": [],
   "source": [
    "train_err, train_loss = epoch(train_loader, model)\n",
    "test_err, test_loss = epoch(test_loader, model)\n",
    "print(\"Train Err\", \"Train Loss\", \"Test Err\", \"Test Loss\", sep=\"\\t\")\n",
    "print(*(\"{:.6f}\".format(i) for i in (train_err, train_loss, test_err, test_loss)), sep=\"\\t\")"
   ]
  },
  {
   "cell_type": "code",
   "execution_count": null,
   "id": "painted-redhead",
   "metadata": {},
   "outputs": [],
   "source": [
    "delta = epsilon * model.weight.detach().sign().view(28,28)\n",
    "plt.imshow(1-delta.numpy(), cmap=\"gray\")"
   ]
  }
 ],
 "metadata": {
  "kernelspec": {
   "display_name": "Python 3",
   "language": "python",
   "name": "python3"
  },
  "language_info": {
   "codemirror_mode": {
    "name": "ipython",
    "version": 3
   },
   "file_extension": ".py",
   "mimetype": "text/x-python",
   "name": "python",
   "nbconvert_exporter": "python",
   "pygments_lexer": "ipython3",
   "version": "3.7.4"
  }
 },
 "nbformat": 4,
 "nbformat_minor": 5
}
